{
 "cells": [
  {
   "cell_type": "code",
   "execution_count": 3,
   "id": "94d2628b",
   "metadata": {},
   "outputs": [
    {
     "name": "stdout",
     "output_type": "stream",
     "text": [
      "rishabh is stupid\n"
     ]
    }
   ],
   "source": [
    "a = 'stupid'\n",
    "print(f'rishabh is {a}')"
   ]
  },
  {
   "cell_type": "code",
   "execution_count": null,
   "id": "c0d52ffd",
   "metadata": {},
   "outputs": [],
   "source": []
  }
 ],
 "metadata": {
  "kernelspec": {
   "display_name": "Python 3 (ipykernel)",
   "language": "python",
   "name": "python3"
  },
  "language_info": {
   "codemirror_mode": {
    "name": "ipython",
    "version": 3
   },
   "file_extension": ".py",
   "mimetype": "text/x-python",
   "name": "python",
   "nbconvert_exporter": "python",
   "pygments_lexer": "ipython3",
   "version": "3.9.6"
  }
 },
 "nbformat": 4,
 "nbformat_minor": 5
}
