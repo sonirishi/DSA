{
 "cells": [
  {
   "cell_type": "code",
   "execution_count": 13,
   "id": "931686fa",
   "metadata": {},
   "outputs": [],
   "source": [
    "def counter(fn):\n",
    "    cnt = 0\n",
    "    def inner(*args,**kwargs):\n",
    "        nonlocal cnt\n",
    "        cnt += 1\n",
    "        print(\"Function called {0} times\".format(cnt))\n",
    "        return fn(*args,**kwargs)\n",
    "    return inner"
   ]
  },
  {
   "cell_type": "code",
   "execution_count": 14,
   "id": "1c4d4cc4",
   "metadata": {},
   "outputs": [],
   "source": [
    "@counter\n",
    "def add(a,b):\n",
    "    return a+b"
   ]
  },
  {
   "cell_type": "code",
   "execution_count": 15,
   "id": "068306b8",
   "metadata": {},
   "outputs": [],
   "source": [
    "add.__doc__"
   ]
  },
  {
   "cell_type": "code",
   "execution_count": 3,
   "id": "c22d4031",
   "metadata": {},
   "outputs": [
    {
     "data": {
      "text/plain": [
       "(<cell at 0x000001BA135D44F0: int object at 0x000001BA0F2E6910>,\n",
       " <cell at 0x000001BA135D4130: function object at 0x000001BA135D9550>)"
      ]
     },
     "execution_count": 3,
     "metadata": {},
     "output_type": "execute_result"
    }
   ],
   "source": [
    "add.__closure__"
   ]
  },
  {
   "cell_type": "code",
   "execution_count": 6,
   "id": "3aef7b97",
   "metadata": {},
   "outputs": [],
   "source": [
    "def add(a,b):\n",
    "    return a+b"
   ]
  },
  {
   "cell_type": "code",
   "execution_count": 7,
   "id": "6289824a",
   "metadata": {},
   "outputs": [],
   "source": [
    "add = counter(add)  ## same as using closure"
   ]
  },
  {
   "cell_type": "code",
   "execution_count": 8,
   "id": "3264e380",
   "metadata": {},
   "outputs": [
    {
     "data": {
      "text/plain": [
       "'inner'"
      ]
     },
     "execution_count": 8,
     "metadata": {},
     "output_type": "execute_result"
    }
   ],
   "source": [
    "add.__name__"
   ]
  },
  {
   "cell_type": "code",
   "execution_count": 9,
   "id": "e6d9f2aa",
   "metadata": {},
   "outputs": [],
   "source": [
    "from functools import wraps"
   ]
  },
  {
   "cell_type": "code",
   "execution_count": 10,
   "id": "1dc89b54",
   "metadata": {},
   "outputs": [],
   "source": [
    "def counter(fn):\n",
    "    cnt = 0\n",
    "    @wraps(fn)\n",
    "    def inner(*args,**kwargs):\n",
    "        nonlocal cnt\n",
    "        cnt += 1\n",
    "        print(\"Function called {0} times\".format(cnt))\n",
    "        return fn(*args,**kwargs)\n",
    "    return inner"
   ]
  },
  {
   "cell_type": "code",
   "execution_count": 11,
   "id": "c9fea004",
   "metadata": {},
   "outputs": [],
   "source": [
    "@counter\n",
    "def add(a,b):\n",
    "    \"\"\" Adds 2 nos \"\"\"\n",
    "    return a+b"
   ]
  },
  {
   "cell_type": "code",
   "execution_count": 12,
   "id": "ddc29d1f",
   "metadata": {},
   "outputs": [
    {
     "data": {
      "text/plain": [
       "' Adds 2 nos '"
      ]
     },
     "execution_count": 12,
     "metadata": {},
     "output_type": "execute_result"
    }
   ],
   "source": [
    "add.__doc__"
   ]
  },
  {
   "cell_type": "code",
   "execution_count": 16,
   "id": "c314e368",
   "metadata": {},
   "outputs": [
    {
     "name": "stdout",
     "output_type": "stream",
     "text": [
      "Function called 1 times\n"
     ]
    },
    {
     "data": {
      "text/plain": [
       "5"
      ]
     },
     "execution_count": 16,
     "metadata": {},
     "output_type": "execute_result"
    }
   ],
   "source": [
    "add(2,3)"
   ]
  },
  {
   "cell_type": "code",
   "execution_count": 17,
   "id": "d2fd1aaf",
   "metadata": {},
   "outputs": [],
   "source": [
    "from functools import reduce"
   ]
  },
  {
   "cell_type": "code",
   "execution_count": 18,
   "id": "691db454",
   "metadata": {},
   "outputs": [
    {
     "data": {
      "text/plain": [
       "15"
      ]
     },
     "execution_count": 18,
     "metadata": {},
     "output_type": "execute_result"
    }
   ],
   "source": [
    "reduce(lambda x, y: x+y,[1,2,3,4,5])"
   ]
  },
  {
   "cell_type": "code",
   "execution_count": 26,
   "id": "c6000434",
   "metadata": {},
   "outputs": [],
   "source": [
    "class Fibonacci:\n",
    "    def __init__(self):\n",
    "        self.cache = {1:1,2:1}\n",
    "    def generate_fib(self,n):\n",
    "        if n not in self.cache:\n",
    "            print('Enter')\n",
    "            self.cache[n] = self.generate_fib(n-1) + self.generate_fib(n-2)\n",
    "        return self.cache[n]"
   ]
  },
  {
   "cell_type": "code",
   "execution_count": 27,
   "id": "a1e3f62e",
   "metadata": {},
   "outputs": [],
   "source": [
    "fib = Fibonacci()"
   ]
  },
  {
   "cell_type": "code",
   "execution_count": 28,
   "id": "03f48abf",
   "metadata": {},
   "outputs": [
    {
     "name": "stdout",
     "output_type": "stream",
     "text": [
      "Enter\n",
      "Enter\n",
      "Enter\n",
      "Enter\n",
      "Enter\n",
      "Enter\n",
      "Enter\n",
      "Enter\n"
     ]
    },
    {
     "data": {
      "text/plain": [
       "55"
      ]
     },
     "execution_count": 28,
     "metadata": {},
     "output_type": "execute_result"
    }
   ],
   "source": [
    "fib.generate_fib(10)"
   ]
  },
  {
   "cell_type": "code",
   "execution_count": 29,
   "id": "d766a7c2",
   "metadata": {},
   "outputs": [
    {
     "name": "stdout",
     "output_type": "stream",
     "text": [
      "Enter\n",
      "Enter\n"
     ]
    },
    {
     "data": {
      "text/plain": [
       "144"
      ]
     },
     "execution_count": 29,
     "metadata": {},
     "output_type": "execute_result"
    }
   ],
   "source": [
    "fib.generate_fib(12)"
   ]
  },
  {
   "cell_type": "code",
   "execution_count": 37,
   "id": "bee35d2a",
   "metadata": {},
   "outputs": [],
   "source": [
    "def fib():\n",
    "    cache = {1:1,2:1}\n",
    "    def calc_fib(n):\n",
    "        nonlocal cache\n",
    "        if n not in cache:\n",
    "            print('Enter')\n",
    "            cache[n] = calc_fib(n-1) + calc_fib(n-2)\n",
    "        return cache[n]\n",
    "    return calc_fib"
   ]
  },
  {
   "cell_type": "code",
   "execution_count": 38,
   "id": "1bd2fd32",
   "metadata": {},
   "outputs": [],
   "source": [
    "f = fib()"
   ]
  },
  {
   "cell_type": "code",
   "execution_count": 39,
   "id": "c61b315e",
   "metadata": {},
   "outputs": [
    {
     "name": "stdout",
     "output_type": "stream",
     "text": [
      "Enter\n",
      "Enter\n",
      "Enter\n",
      "Enter\n",
      "Enter\n",
      "Enter\n",
      "Enter\n",
      "Enter\n"
     ]
    },
    {
     "data": {
      "text/plain": [
       "55"
      ]
     },
     "execution_count": 39,
     "metadata": {},
     "output_type": "execute_result"
    }
   ],
   "source": [
    "f(10)"
   ]
  },
  {
   "cell_type": "code",
   "execution_count": 40,
   "id": "0a60a02b",
   "metadata": {},
   "outputs": [
    {
     "name": "stdout",
     "output_type": "stream",
     "text": [
      "Enter\n",
      "Enter\n"
     ]
    },
    {
     "data": {
      "text/plain": [
       "144"
      ]
     },
     "execution_count": 40,
     "metadata": {},
     "output_type": "execute_result"
    }
   ],
   "source": [
    "f(12)"
   ]
  },
  {
   "cell_type": "code",
   "execution_count": 41,
   "id": "c994736a",
   "metadata": {},
   "outputs": [],
   "source": [
    "def fib():\n",
    "    cache = {1:1,2:1}\n",
    "    def calc_fib(n):\n",
    "        #nonlocal cache\n",
    "        if n not in cache:\n",
    "            print('Enter')\n",
    "            cache[n] = calc_fib(n-1) + calc_fib(n-2)\n",
    "        return cache[n]\n",
    "    return calc_fib"
   ]
  },
  {
   "cell_type": "code",
   "execution_count": 42,
   "id": "28cf3dd9",
   "metadata": {},
   "outputs": [],
   "source": [
    "f = fib()"
   ]
  },
  {
   "cell_type": "code",
   "execution_count": 43,
   "id": "3ad73f31",
   "metadata": {},
   "outputs": [
    {
     "name": "stdout",
     "output_type": "stream",
     "text": [
      "Enter\n",
      "Enter\n",
      "Enter\n",
      "Enter\n",
      "Enter\n",
      "Enter\n",
      "Enter\n",
      "Enter\n",
      "Enter\n",
      "Enter\n"
     ]
    },
    {
     "data": {
      "text/plain": [
       "144"
      ]
     },
     "execution_count": 43,
     "metadata": {},
     "output_type": "execute_result"
    }
   ],
   "source": [
    "f(12)"
   ]
  },
  {
   "cell_type": "code",
   "execution_count": 44,
   "id": "d262ca6c",
   "metadata": {},
   "outputs": [
    {
     "name": "stdout",
     "output_type": "stream",
     "text": [
      "Enter\n"
     ]
    },
    {
     "data": {
      "text/plain": [
       "233"
      ]
     },
     "execution_count": 44,
     "metadata": {},
     "output_type": "execute_result"
    }
   ],
   "source": [
    "f(13)"
   ]
  },
  {
   "cell_type": "code",
   "execution_count": 51,
   "id": "bca58b12",
   "metadata": {},
   "outputs": [],
   "source": [
    "def counter(fn):\n",
    "    cnt = 0\n",
    "    def inner(*args,**kwargs):\n",
    "        cnt = 0\n",
    "        cnt = cnt + 1\n",
    "        print(\"Function called {0} times\".format(cnt))\n",
    "        return fn(*args,**kwargs)\n",
    "    return inner\n",
    "\n",
    "def add(a,b):\n",
    "    return a+b\n",
    "def mult(a,b):\n",
    "    return a*b"
   ]
  },
  {
   "cell_type": "code",
   "execution_count": 52,
   "id": "5e5d1129",
   "metadata": {},
   "outputs": [],
   "source": [
    "add_closure = counter(add)"
   ]
  },
  {
   "cell_type": "code",
   "execution_count": 53,
   "id": "508dd689",
   "metadata": {},
   "outputs": [
    {
     "name": "stdout",
     "output_type": "stream",
     "text": [
      "Function called 1 times\n"
     ]
    },
    {
     "data": {
      "text/plain": [
       "3"
      ]
     },
     "execution_count": 53,
     "metadata": {},
     "output_type": "execute_result"
    }
   ],
   "source": [
    "add_closure(1,2)"
   ]
  },
  {
   "cell_type": "code",
   "execution_count": 54,
   "id": "399121d4",
   "metadata": {},
   "outputs": [
    {
     "name": "stdout",
     "output_type": "stream",
     "text": [
      "Function called 1 times\n"
     ]
    },
    {
     "data": {
      "text/plain": [
       "3"
      ]
     },
     "execution_count": 54,
     "metadata": {},
     "output_type": "execute_result"
    }
   ],
   "source": [
    "add_closure(1,2)  ## cnt is local variable now"
   ]
  },
  {
   "cell_type": "code",
   "execution_count": 58,
   "id": "d8c5f69c",
   "metadata": {},
   "outputs": [],
   "source": [
    "def counter(fn):\n",
    "    cnt = []\n",
    "    def inner(*args,**kwargs):\n",
    "        cnt.append(fn(*args,**kwargs))\n",
    "        print(\"Output {0}\".format(cnt))\n",
    "    return inner\n",
    "\n",
    "def add(a,b):\n",
    "    return a+b\n",
    "def mult(a,b):\n",
    "    return a*b"
   ]
  },
  {
   "cell_type": "code",
   "execution_count": 59,
   "id": "454f991b",
   "metadata": {},
   "outputs": [],
   "source": [
    "add_closure = counter(add)"
   ]
  },
  {
   "cell_type": "code",
   "execution_count": 60,
   "id": "dcb354a3",
   "metadata": {},
   "outputs": [
    {
     "name": "stdout",
     "output_type": "stream",
     "text": [
      "Output [3]\n"
     ]
    }
   ],
   "source": [
    "add_closure(1,2) "
   ]
  },
  {
   "cell_type": "code",
   "execution_count": 61,
   "id": "57ddd9a9",
   "metadata": {},
   "outputs": [
    {
     "name": "stdout",
     "output_type": "stream",
     "text": [
      "Output [3, 3]\n"
     ]
    }
   ],
   "source": [
    "add_closure(1,2) ## if the objet is mutable i think then we dont need nonlocal declaration"
   ]
  },
  {
   "cell_type": "code",
   "execution_count": 62,
   "id": "b972695d",
   "metadata": {},
   "outputs": [],
   "source": [
    "def my_dec(a,b): ## parameterized decorator factory\n",
    "    def dec(fn):\n",
    "        def inner(*args,**kwargs):\n",
    "            print(\"Enter\")\n",
    "            return fn(*args,**kwargs)\n",
    "        return inner\n",
    "    return dec"
   ]
  },
  {
   "cell_type": "code",
   "execution_count": 63,
   "id": "903b5516",
   "metadata": {},
   "outputs": [],
   "source": [
    "@my_dec(1,2)\n",
    "def add(a,b):\n",
    "    return a+b"
   ]
  },
  {
   "cell_type": "code",
   "execution_count": 64,
   "id": "05f27d5d",
   "metadata": {},
   "outputs": [
    {
     "name": "stdout",
     "output_type": "stream",
     "text": [
      "Enter\n"
     ]
    },
    {
     "data": {
      "text/plain": [
       "5"
      ]
     },
     "execution_count": 64,
     "metadata": {},
     "output_type": "execute_result"
    }
   ],
   "source": [
    "add(2,3)"
   ]
  },
  {
   "cell_type": "code",
   "execution_count": 65,
   "id": "39f9b184",
   "metadata": {},
   "outputs": [],
   "source": [
    "def add(a,b):\n",
    "    return a+b"
   ]
  },
  {
   "cell_type": "code",
   "execution_count": 66,
   "id": "b8223899",
   "metadata": {},
   "outputs": [],
   "source": [
    "add.speak = \"Rishabh\"  ## add attribure to a function, i guess its specific to python only"
   ]
  },
  {
   "cell_type": "code",
   "execution_count": 1,
   "id": "ff6c67b6",
   "metadata": {},
   "outputs": [],
   "source": [
    "from numbers import Integral"
   ]
  },
  {
   "cell_type": "code",
   "execution_count": 8,
   "id": "8bd1750e",
   "metadata": {},
   "outputs": [
    {
     "data": {
      "text/plain": [
       "True"
      ]
     },
     "execution_count": 8,
     "metadata": {},
     "output_type": "execute_result"
    }
   ],
   "source": [
    "isinstance(True,Integral)"
   ]
  },
  {
   "cell_type": "code",
   "execution_count": 10,
   "id": "8c308907",
   "metadata": {},
   "outputs": [],
   "source": [
    "from collections import namedtuple  ## function that generate new class. subclass (inherits from) tuple"
   ]
  },
  {
   "cell_type": "code",
   "execution_count": 11,
   "id": "1484609d",
   "metadata": {},
   "outputs": [],
   "source": [
    "a = [1,2,3]"
   ]
  },
  {
   "cell_type": "code",
   "execution_count": 12,
   "id": "af1682ff",
   "metadata": {},
   "outputs": [
    {
     "data": {
      "text/plain": [
       "2893020506688"
      ]
     },
     "execution_count": 12,
     "metadata": {},
     "output_type": "execute_result"
    }
   ],
   "source": [
    "id(a)"
   ]
  },
  {
   "cell_type": "code",
   "execution_count": 13,
   "id": "b0e04754",
   "metadata": {},
   "outputs": [],
   "source": [
    "a.append(4)"
   ]
  },
  {
   "cell_type": "code",
   "execution_count": 14,
   "id": "bc6a555b",
   "metadata": {},
   "outputs": [
    {
     "data": {
      "text/plain": [
       "2893020506688"
      ]
     },
     "execution_count": 14,
     "metadata": {},
     "output_type": "execute_result"
    }
   ],
   "source": [
    "id(a)"
   ]
  },
  {
   "cell_type": "code",
   "execution_count": 15,
   "id": "8ec4483d",
   "metadata": {},
   "outputs": [],
   "source": [
    "a = a+[6]"
   ]
  },
  {
   "cell_type": "code",
   "execution_count": 16,
   "id": "5ca60e43",
   "metadata": {},
   "outputs": [
    {
     "data": {
      "text/plain": [
       "2893021939072"
      ]
     },
     "execution_count": 16,
     "metadata": {},
     "output_type": "execute_result"
    }
   ],
   "source": [
    "id(a)"
   ]
  },
  {
   "cell_type": "code",
   "execution_count": 17,
   "id": "8403435a",
   "metadata": {},
   "outputs": [],
   "source": [
    "from numpy import random"
   ]
  },
  {
   "cell_type": "code",
   "execution_count": 20,
   "id": "f852d791",
   "metadata": {},
   "outputs": [],
   "source": [
    "random.seed(10)"
   ]
  },
  {
   "cell_type": "code",
   "execution_count": 21,
   "id": "cc0593d7",
   "metadata": {},
   "outputs": [
    {
     "data": {
      "text/plain": [
       "array([10])"
      ]
     },
     "execution_count": 21,
     "metadata": {},
     "output_type": "execute_result"
    }
   ],
   "source": [
    "random.randint(1,20,1)"
   ]
  },
  {
   "cell_type": "code",
   "execution_count": 22,
   "id": "d3edb34b",
   "metadata": {},
   "outputs": [
    {
     "data": {
      "text/plain": [
       "array([5])"
      ]
     },
     "execution_count": 22,
     "metadata": {},
     "output_type": "execute_result"
    }
   ],
   "source": [
    "random.randint(1,20,1)"
   ]
  },
  {
   "cell_type": "code",
   "execution_count": 23,
   "id": "07826052",
   "metadata": {},
   "outputs": [
    {
     "data": {
      "text/plain": [
       "array([10])"
      ]
     },
     "execution_count": 23,
     "metadata": {},
     "output_type": "execute_result"
    }
   ],
   "source": [
    "random.seed(10)\n",
    "random.randint(1,20,1)"
   ]
  },
  {
   "cell_type": "code",
   "execution_count": 24,
   "id": "2b2d1784",
   "metadata": {},
   "outputs": [],
   "source": [
    "from random import seed"
   ]
  },
  {
   "cell_type": "code",
   "execution_count": 25,
   "id": "842f210e",
   "metadata": {},
   "outputs": [],
   "source": [
    "seed(100)"
   ]
  },
  {
   "cell_type": "code",
   "execution_count": 26,
   "id": "c8c196fb",
   "metadata": {},
   "outputs": [
    {
     "data": {
      "text/plain": [
       "array([5])"
      ]
     },
     "execution_count": 26,
     "metadata": {},
     "output_type": "execute_result"
    }
   ],
   "source": [
    "random.randint(1,20,1)"
   ]
  },
  {
   "cell_type": "code",
   "execution_count": 27,
   "id": "a4519cea",
   "metadata": {},
   "outputs": [
    {
     "data": {
      "text/plain": [
       "array([16])"
      ]
     },
     "execution_count": 27,
     "metadata": {},
     "output_type": "execute_result"
    }
   ],
   "source": [
    "random.randint(1,20,1)"
   ]
  },
  {
   "cell_type": "code",
   "execution_count": 28,
   "id": "b6271169",
   "metadata": {},
   "outputs": [
    {
     "data": {
      "text/plain": [
       "array([1])"
      ]
     },
     "execution_count": 28,
     "metadata": {},
     "output_type": "execute_result"
    }
   ],
   "source": [
    "seed(100)\n",
    "random.randint(1,20,1)"
   ]
  },
  {
   "cell_type": "code",
   "execution_count": 29,
   "id": "e282715a",
   "metadata": {},
   "outputs": [
    {
     "data": {
      "text/plain": [
       "array([18])"
      ]
     },
     "execution_count": 29,
     "metadata": {},
     "output_type": "execute_result"
    }
   ],
   "source": [
    "seed(100)\n",
    "random.randint(1,20,1)"
   ]
  },
  {
   "cell_type": "code",
   "execution_count": 30,
   "id": "858bba35",
   "metadata": {},
   "outputs": [
    {
     "data": {
      "text/plain": [
       "array([17])"
      ]
     },
     "execution_count": 30,
     "metadata": {},
     "output_type": "execute_result"
    }
   ],
   "source": [
    "seed(100)\n",
    "random.randint(1,20,1)"
   ]
  },
  {
   "cell_type": "code",
   "execution_count": null,
   "id": "3b398fd5",
   "metadata": {},
   "outputs": [],
   "source": [
    "## random seed while parallelization can be issue if set globally using np.random.seed() as it will take same value\n",
    "## in call cores and computation will be useless."
   ]
  },
  {
   "cell_type": "raw",
   "id": "9479efc1",
   "metadata": {},
   "source": [
    "# from joblib import Parallel, delayed\n",
    "\n",
    "def stochastic_function(seed, high=10):\n",
    "    rng = np.random.default_rng(seed)\n",
    "    return rng.integers(high, size=5)\n",
    "\n",
    "seed = 98765\n",
    "# create the RNG that you want to pass around\n",
    "rng = np.random.default_rng(seed)\n",
    "# get the SeedSequence of the passed RNG\n",
    "ss = rng.bit_generator._seed_seq\n",
    "# create 5 initial independent states\n",
    "child_states = ss.spawn(5)\n",
    "\n",
    "# use 2 processes to run the stochastic_function 5 times with joblib\n",
    "random_vector = Parallel(n_jobs=2)(delayed(\n",
    "    stochastic_function)(random_state) for random_state in child_states)\n",
    "print(random_vector)\n",
    "\n",
    "# rerun to check that we obtain the same outputs\n",
    "random_vector = Parallel(n_jobs=2)(delayed(\n",
    "    stochastic_function)(random_state) for random_state in child_states)\n",
    "print(random_vector)"
   ]
  }
 ],
 "metadata": {
  "kernelspec": {
   "display_name": "Python 3 (ipykernel)",
   "language": "python",
   "name": "python3"
  },
  "language_info": {
   "codemirror_mode": {
    "name": "ipython",
    "version": 3
   },
   "file_extension": ".py",
   "mimetype": "text/x-python",
   "name": "python",
   "nbconvert_exporter": "python",
   "pygments_lexer": "ipython3",
   "version": "3.9.6"
  }
 },
 "nbformat": 4,
 "nbformat_minor": 5
}
